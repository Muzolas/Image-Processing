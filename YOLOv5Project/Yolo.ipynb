{
 "cells": [
  {
   "cell_type": "markdown",
   "metadata": {},
   "source": [
    "YOLO (You Only Look Once) - Nesne Algılama Algoritması\n",
    "1. Giriş: YOLO Nedir?\n",
    "YOLO (You Only Look Once), nesne algılama (object detection) için kullanılan, gerçek zamanlı bir derin öğrenme algoritmasıdır.\n",
    "YOLO, görüntüyü bir kerede analiz eder ve tespit edilen nesneleri belirler, bu da onu diğer algoritmalardan çok daha hızlı yapar.\n",
    "Nesne Algılama Nedir?\n",
    "Bir görüntüdeki nesnelerin konumlarını (bounding box) ve sınıflarını (örneğin, araba, insan, bisiklet) bulma işlemidir.\n",
    "YOLO'nun Temel Fikri:\n",
    "Görüntü NxN bir ızgaraya bölünür.\n",
    "Her hücre, bir nesne içeriyorsa, nesnenin bulunduğu yeri ve türünü tahmin eder."
   ]
  },
  {
   "cell_type": "markdown",
   "metadata": {},
   "source": [
    "2. YOLO Nasıl Çalışır?\n",
    "Adım Adım Çalışma Prensibi:\n",
    "Görüntüyü bölme: YOLO, görüntüyü eşit parçalara böler.\n",
    "Tahminler: Her parçada, model hem nesnenin yerini hem de türünü tahmin eder.\n",
    "Bounding Box ve Sınıf Tahmini: Nesne bulunduysa, konumunu (x, y, genişlik, yükseklik) ve sınıfını (örneğin, köpek, kedi) belirler.\n",
    "Tek geçişte çıktı: Tüm tahminler tek bir geçişte yapılır, bu da YOLO'yu hızlı kılar.\n",
    "\n",
    "Her bir ızgara hücresi birden fazla nesne tespit edebilir, ancak en yüksek güvenilirlikte olan sonuç seçilir."
   ]
  },
  {
   "cell_type": "markdown",
   "metadata": {},
   "source": [
    "3. YOLO'nun Avantajları\n",
    "Hızlıdır: YOLO, tüm görüntüyü tek bir geçişte işler.\n",
    "Gerçek Zamanlıdır: YOLO, saniyede onlarca kare üzerinde nesne algılayabilir, bu nedenle gerçek zamanlı uygulamalar için uygundur.\n",
    "End-to-End Yapısı: YOLO, tek bir model kullanarak hem konum hem de sınıf tahmini yapar.\n",
    "Zorluklar:\n",
    "Küçük nesneleri tespit etmekte zorluk çekebilir.\n",
    "YOLO, büyük ve küçük nesneleri ayırt etmede daha az hassas olabilir."
   ]
  },
  {
   "cell_type": "markdown",
   "metadata": {},
   "source": [
    "4. Jupyter Notebook ile YOLO Kullanımı\n",
    "YOLO'yu basit bir Jupyter Notebook ile nasıl uygulayacağımızı görelim. Burada gereksiz detaylardan kaçınarak yalnızca temel işlevi göstereceğiz.\n",
    "\n",
    "Gerekli Kütüphanelerin Yüklenmesi"
   ]
  },
  {
   "cell_type": "code",
   "execution_count": 1,
   "metadata": {},
   "outputs": [
    {
     "name": "stderr",
     "output_type": "stream",
     "text": [
      "<>:6: SyntaxWarning: invalid escape sequence '\\D'\n",
      "<>:6: SyntaxWarning: invalid escape sequence '\\D'\n",
      "C:\\Users\\Muzolas\\AppData\\Local\\Temp\\ipykernel_6876\\318325985.py:6: SyntaxWarning: invalid escape sequence '\\D'\n",
      "  net = cv2.dnn.readNet(\"C:\\\\Goruntu isleme\\Ders-2\\\\yolov3.weights\", \"C:\\\\Goruntu isleme\\\\Ders-2\\\\yolov3.cfg\")\n",
      "C:\\Users\\Muzolas\\AppData\\Local\\Temp\\ipykernel_6876\\318325985.py:6: SyntaxWarning: invalid escape sequence '\\D'\n",
      "  net = cv2.dnn.readNet(\"C:\\\\Goruntu isleme\\Ders-2\\\\yolov3.weights\", \"C:\\\\Goruntu isleme\\\\Ders-2\\\\yolov3.cfg\")\n"
     ]
    },
    {
     "ename": "error",
     "evalue": "OpenCV(4.10.0) D:\\a\\opencv-python\\opencv-python\\opencv\\modules\\dnn\\src\\darknet\\darknet_io.cpp:991: error: (-213:The function/feature is not implemented) Transpose the weights (except for convolutional) is not implemented in function 'cv::dnn::darknet::ReadDarknetFromWeightsStream'\n",
     "output_type": "error",
     "traceback": [
      "\u001b[1;31m---------------------------------------------------------------------------\u001b[0m",
      "\u001b[1;31merror\u001b[0m                                     Traceback (most recent call last)",
      "Cell \u001b[1;32mIn[1], line 6\u001b[0m\n\u001b[0;32m      3\u001b[0m \u001b[38;5;28;01mimport\u001b[39;00m \u001b[38;5;21;01mnumpy\u001b[39;00m \u001b[38;5;28;01mas\u001b[39;00m \u001b[38;5;21;01mnp\u001b[39;00m\n\u001b[0;32m      5\u001b[0m \u001b[38;5;66;03m# YOLO modelini ve sınıfları yükle\u001b[39;00m\n\u001b[1;32m----> 6\u001b[0m net \u001b[38;5;241m=\u001b[39m \u001b[43mcv2\u001b[49m\u001b[38;5;241;43m.\u001b[39;49m\u001b[43mdnn\u001b[49m\u001b[38;5;241;43m.\u001b[39;49m\u001b[43mreadNet\u001b[49m\u001b[43m(\u001b[49m\u001b[38;5;124;43m\"\u001b[39;49m\u001b[38;5;124;43mC:\u001b[39;49m\u001b[38;5;130;43;01m\\\\\u001b[39;49;00m\u001b[38;5;124;43mGoruntu isleme\u001b[39;49m\u001b[38;5;124;43m\\\u001b[39;49m\u001b[38;5;124;43mDers-2\u001b[39;49m\u001b[38;5;130;43;01m\\\\\u001b[39;49;00m\u001b[38;5;124;43myolov3.weights\u001b[39;49m\u001b[38;5;124;43m\"\u001b[39;49m\u001b[43m,\u001b[49m\u001b[43m \u001b[49m\u001b[38;5;124;43m\"\u001b[39;49m\u001b[38;5;124;43mC:\u001b[39;49m\u001b[38;5;130;43;01m\\\\\u001b[39;49;00m\u001b[38;5;124;43mGoruntu isleme\u001b[39;49m\u001b[38;5;130;43;01m\\\\\u001b[39;49;00m\u001b[38;5;124;43mDers-2\u001b[39;49m\u001b[38;5;130;43;01m\\\\\u001b[39;49;00m\u001b[38;5;124;43myolov3.cfg\u001b[39;49m\u001b[38;5;124;43m\"\u001b[39;49m\u001b[43m)\u001b[49m\n\u001b[0;32m      9\u001b[0m classes \u001b[38;5;241m=\u001b[39m []\n\u001b[0;32m     10\u001b[0m \u001b[38;5;28;01mwith\u001b[39;00m \u001b[38;5;28mopen\u001b[39m(\u001b[38;5;124m\"\u001b[39m\u001b[38;5;124mC:\u001b[39m\u001b[38;5;130;01m\\\\\u001b[39;00m\u001b[38;5;124mGoruntu isleme\u001b[39m\u001b[38;5;130;01m\\\\\u001b[39;00m\u001b[38;5;124mDers-2\u001b[39m\u001b[38;5;130;01m\\\\\u001b[39;00m\u001b[38;5;124mcoco.names\u001b[39m\u001b[38;5;124m\"\u001b[39m, \u001b[38;5;124m\"\u001b[39m\u001b[38;5;124mr\u001b[39m\u001b[38;5;124m\"\u001b[39m) \u001b[38;5;28;01mas\u001b[39;00m f:\n",
      "\u001b[1;31merror\u001b[0m: OpenCV(4.10.0) D:\\a\\opencv-python\\opencv-python\\opencv\\modules\\dnn\\src\\darknet\\darknet_io.cpp:991: error: (-213:The function/feature is not implemented) Transpose the weights (except for convolutional) is not implemented in function 'cv::dnn::darknet::ReadDarknetFromWeightsStream'\n"
     ]
    }
   ],
   "source": [
    "# YOLO için gerekli kütüphaneleri yükleyelim\n",
    "import cv2\n",
    "import numpy as np\n",
    "\n",
    "# YOLO modelini ve sınıfları yükle\n",
    "net = cv2.dnn.readNet(\"C:\\\\Goruntu isleme\\Ders-2\\\\yolov3.weights\", \"C:\\\\Goruntu isleme\\\\Ders-2\\\\yolov3.cfg\")\n",
    "\n",
    "\n",
    "classes = []\n",
    "with open(\"C:\\\\Goruntu isleme\\\\Ders-2\\\\coco.names\", \"r\") as f:\n",
    "    classes = [line.strip() for line in f.readlines()]\n",
    "\n",
    "\n"
   ]
  },
  {
   "cell_type": "markdown",
   "metadata": {},
   "source": [
    "Bu kod parçasında, YOLO modelini ve COCO datasetindeki nesnelerin isimlerini yüklüyoruz. COCO datasetinde insanlar, arabalar, kediler gibi çeşitli nesneler bulunur."
   ]
  },
  {
   "cell_type": "markdown",
   "metadata": {},
   "source": [
    "YOLO ile Nesne Algılama"
   ]
  },
  {
   "cell_type": "code",
   "execution_count": null,
   "metadata": {},
   "outputs": [],
   "source": [
    "# Bir görüntüdeki nesneleri algılayalım\n",
    "image = cv2.imread(\"example_image.jpg\")\n",
    "blob = cv2.dnn.blobFromImage(image, 0.00392, (416, 416), (0, 0, 0), True, crop=False)\n",
    "net.setInput(blob)\n",
    "outputs = net.forward(net.getUnconnectedOutLayersNames())\n",
    "\n",
    "# Algılanan nesnelerin yerlerini işaretleyelim\n",
    "for output in outputs:\n",
    "    for detection in output:\n",
    "        scores = detection[5:]\n",
    "        class_id = np.argmax(scores)\n",
    "        confidence = scores[class_id]\n",
    "        if confidence > 0.5:\n",
    "            center_x = int(detection[0] * image.shape[1])\n",
    "            center_y = int(detection[1] * image.shape[0])\n",
    "            w = int(detection[2] * image.shape[1])\n",
    "            h = int(detection[3] * image.shape[0])\n",
    "            cv2.rectangle(image, (center_x - w // 2, center_y - h // 2), (center_x + w // 2, center_y + h // 2), (0, 255, 0), 2)\n",
    "\n",
    "cv2.imshow(\"YOLO Object Detection\", image)\n",
    "cv2.waitKey(0)\n",
    "cv2.destroyAllWindows()\n"
   ]
  },
  {
   "cell_type": "markdown",
   "metadata": {},
   "source": [
    "5. Sonuç\n",
    "Bu basit örnek ile YOLO'nun temel işleyişini görmüş olduk.\n",
    "YOLO, tek bir geçişte bir görüntüdeki nesneleri hızlı ve etkili bir şekilde algılayabilir.\n",
    "Gerçek zamanlı uygulamalar için idealdir ve birçok farklı senaryoda kullanılabilir (örneğin, güvenlik kameraları, otonom araçlar)."
   ]
  }
 ],
 "metadata": {
  "kernelspec": {
   "display_name": "Python 3",
   "language": "python",
   "name": "python3"
  },
  "language_info": {
   "codemirror_mode": {
    "name": "ipython",
    "version": 3
   },
   "file_extension": ".py",
   "mimetype": "text/x-python",
   "name": "python",
   "nbconvert_exporter": "python",
   "pygments_lexer": "ipython3",
   "version": "3.12.6"
  }
 },
 "nbformat": 4,
 "nbformat_minor": 2
}
